{
 "cells": [
  {
   "cell_type": "code",
   "execution_count": 2,
   "id": "e3ff195c",
   "metadata": {},
   "outputs": [],
   "source": [
    "library(ggplot2)\n",
    "library(tidyverse)"
   ]
  },
  {
   "cell_type": "markdown",
   "id": "d0486091",
   "metadata": {},
   "source": [
    "Q.1\n",
    "* We have use the following dataset in the course material to generate two datasets form the same distribution but which have different sample means\n",
    "  * here I am generating only 5 samples, insteaf of the 40 generated in the course material"
   ]
  },
  {
   "cell_type": "code",
   "execution_count": 9,
   "id": "3b0a10f7",
   "metadata": {},
   "outputs": [
    {
     "data": {
      "text/html": [
       "<table>\n",
       "<thead><tr><th scope=col>measure</th><th scope=col>site_name</th></tr></thead>\n",
       "<tbody>\n",
       "\t<tr><td>10.291195</td><td>Site 1   </td></tr>\n",
       "\t<tr><td>11.388863</td><td>Site 1   </td></tr>\n",
       "\t<tr><td>10.649010</td><td>Site 1   </td></tr>\n",
       "\t<tr><td>11.477876</td><td>Site 1   </td></tr>\n",
       "\t<tr><td>10.438720</td><td>Site 1   </td></tr>\n",
       "\t<tr><td>10.522318</td><td>Site 2   </td></tr>\n",
       "\t<tr><td> 9.955392</td><td>Site 2   </td></tr>\n",
       "\t<tr><td>11.484413</td><td>Site 2   </td></tr>\n",
       "\t<tr><td> 8.408989</td><td>Site 2   </td></tr>\n",
       "\t<tr><td>10.225640</td><td>Site 2   </td></tr>\n",
       "</tbody>\n",
       "</table>\n"
      ],
      "text/latex": [
       "\\begin{tabular}{r|ll}\n",
       " measure & site\\_name\\\\\n",
       "\\hline\n",
       "\t 10.291195 & Site 1   \\\\\n",
       "\t 11.388863 & Site 1   \\\\\n",
       "\t 10.649010 & Site 1   \\\\\n",
       "\t 11.477876 & Site 1   \\\\\n",
       "\t 10.438720 & Site 1   \\\\\n",
       "\t 10.522318 & Site 2   \\\\\n",
       "\t  9.955392 & Site 2   \\\\\n",
       "\t 11.484413 & Site 2   \\\\\n",
       "\t  8.408989 & Site 2   \\\\\n",
       "\t 10.225640 & Site 2   \\\\\n",
       "\\end{tabular}\n"
      ],
      "text/markdown": [
       "\n",
       "| measure | site_name |\n",
       "|---|---|\n",
       "| 10.291195 | Site 1    |\n",
       "| 11.388863 | Site 1    |\n",
       "| 10.649010 | Site 1    |\n",
       "| 11.477876 | Site 1    |\n",
       "| 10.438720 | Site 1    |\n",
       "| 10.522318 | Site 2    |\n",
       "|  9.955392 | Site 2    |\n",
       "| 11.484413 | Site 2    |\n",
       "|  8.408989 | Site 2    |\n",
       "| 10.225640 | Site 2    |\n",
       "\n"
      ],
      "text/plain": [
       "   measure   site_name\n",
       "1  10.291195 Site 1   \n",
       "2  11.388863 Site 1   \n",
       "3  10.649010 Site 1   \n",
       "4  11.477876 Site 1   \n",
       "5  10.438720 Site 1   \n",
       "6  10.522318 Site 2   \n",
       "7   9.955392 Site 2   \n",
       "8  11.484413 Site 2   \n",
       "9   8.408989 Site 2   \n",
       "10 10.225640 Site 2   "
      ]
     },
     "metadata": {},
     "output_type": "display_data"
    }
   ],
   "source": [
    "set.seed(110)\n",
    "data_1 = tibble(measure=rnorm(5, 10, 1))\n",
    "data_1$site_name <- 'Site 1'\n",
    "data_2 = tibble(measure=rnorm(5, 10, 1))\n",
    "data_2$site_name <- 'Site 2'\n",
    "complete_data = rbind(data_1, data_2)\n",
    "complete_data"
   ]
  },
  {
   "cell_type": "code",
   "execution_count": 10,
   "id": "561899fd",
   "metadata": {},
   "outputs": [
    {
     "ename": "ERROR",
     "evalue": "Error in parse(text = x, srcfile = src): <text>:1:1: unexpected '*'\n1: *\n    ^\n",
     "output_type": "error",
     "traceback": [
      "Error in parse(text = x, srcfile = src): <text>:1:1: unexpected '*'\n1: *\n    ^\nTraceback:\n"
     ]
    }
   ],
   "source": [
    "* I compute the mean of the dataset above using the following code:\n",
    "  * feel free to deconstruct the code to see what each chunk does."
   ]
  },
  {
   "cell_type": "code",
   "execution_count": 11,
   "id": "dde6ba00",
   "metadata": {},
   "outputs": [
    {
     "data": {
      "text/html": [
       "10.8491329008612"
      ],
      "text/latex": [
       "10.8491329008612"
      ],
      "text/markdown": [
       "10.8491329008612"
      ],
      "text/plain": [
       "[1] 10.84913"
      ]
     },
     "metadata": {},
     "output_type": "display_data"
    },
    {
     "data": {
      "text/html": [
       "10.1193505444919"
      ],
      "text/latex": [
       "10.1193505444919"
      ],
      "text/markdown": [
       "10.1193505444919"
      ],
      "text/plain": [
       "[1] 10.11935"
      ]
     },
     "metadata": {},
     "output_type": "display_data"
    }
   ],
   "source": [
    "mean(complete_data[complete_data$site_name == \"Site 1\", ]$measure)\n",
    "mean(complete_data[complete_data$site_name == \"Site 2\", ]$measure)"
   ]
  },
  {
   "cell_type": "markdown",
   "id": "1ac520b8",
   "metadata": {},
   "source": [
    "* Use the `tapply` function instead of the code above to compute the means samples from \"Site 1\" and those from site 2\n",
    "  * See tapply for help if needed"
   ]
  },
  {
   "cell_type": "code",
   "execution_count": 12,
   "id": "501355df",
   "metadata": {},
   "outputs": [
    {
     "data": {
      "text/html": [
       "<dl class=dl-horizontal>\n",
       "\t<dt>Site 1</dt>\n",
       "\t\t<dd>10.8491329008612</dd>\n",
       "\t<dt>Site 2</dt>\n",
       "\t\t<dd>10.1193505444919</dd>\n",
       "</dl>\n"
      ],
      "text/latex": [
       "\\begin{description*}\n",
       "\\item[Site 1] 10.8491329008612\n",
       "\\item[Site 2] 10.1193505444919\n",
       "\\end{description*}\n"
      ],
      "text/markdown": [
       "Site 1\n",
       ":   10.8491329008612Site 2\n",
       ":   10.1193505444919\n",
       "\n"
      ],
      "text/plain": [
       "  Site 1   Site 2 \n",
       "10.84913 10.11935 "
      ]
     },
     "metadata": {},
     "output_type": "display_data"
    }
   ],
   "source": [
    "# Write your code here\n",
    "\n",
    "tapply(complete_data$measure, complete_data$site_name, mean)"
   ]
  },
  {
   "cell_type": "markdown",
   "id": "fd91de00",
   "metadata": {},
   "source": [
    "Q.2 \n",
    "Recall that the test conducted on full version of data_1 and data_2 led us to conlclude that the difference between the two datasets is statistically significant, when both samples were in fact from the same distirbution  $\\mathcal{N}(\\mu=10, \\sigma=1)$\n",
    "\n",
    "* Use the boostrapping-based test covered in class to assess whether you arrive at the same conclusion\n",
    "\n",
    "* You can generate the data using the code snippet below\n",
    "\n"
   ]
  },
  {
   "cell_type": "code",
   "execution_count": 13,
   "id": "f129769f",
   "metadata": {},
   "outputs": [],
   "source": [
    "set.seed(110)\n",
    "data_1 = tibble(measure=rnorm(40, 10, 1))\n",
    "data_1$site_name <- 'Site 1'\n",
    "data_2 = tibble(measure=rnorm(40, 10, 1))\n",
    "data_2$site_name <- 'Site 2'\n",
    "complete_data = rbind(data_1, data_2)\n"
   ]
  },
  {
   "cell_type": "code",
   "execution_count": 14,
   "id": "6fd0e510",
   "metadata": {},
   "outputs": [
    {
     "data": {
      "image/png": "[encoded data removed]",
      "text/plain": [
       "plot without title"
      ]
     },
     "metadata": {},
     "output_type": "display_data"
    }
   ],
   "source": [
    "ggplot(complete_data, aes(x=measure, fill = site_name)) + \n",
    "  geom_density(alpha = 0.4, bw =0.60) + \n",
    "  xlim(5,18)\n"
   ]
  },
  {
   "cell_type": "code",
   "execution_count": 31,
   "id": "23a0213d",
   "metadata": {},
   "outputs": [
    {
     "data": {
      "text/plain": [
       "\n",
       "\tWelch Two Sample t-test\n",
       "\n",
       "data:  data_1$measure and data_2$measure\n",
       "t = 2.1064, df = 74.217, p-value = 0.03855\n",
       "alternative hypothesis: true difference in means is not equal to 0\n",
       "95 percent confidence interval:\n",
       " 0.02414693 0.86823685\n",
       "sample estimates:\n",
       "mean of x mean of y \n",
       " 10.14979   9.70360 \n"
      ]
     },
     "metadata": {},
     "output_type": "display_data"
    }
   ],
   "source": [
    "t.test(data_1$measure, data_2$measure, )"
   ]
  },
  {
   "cell_type": "code",
   "execution_count": 21,
   "id": "4ad88de8",
   "metadata": {},
   "outputs": [
    {
     "data": {
      "text/html": [
       "-0.613774945282499"
      ],
      "text/latex": [
       "-0.613774945282499"
      ],
      "text/markdown": [
       "-0.613774945282499"
      ],
      "text/plain": [
       "[1] -0.6137749"
      ]
     },
     "metadata": {},
     "output_type": "display_data"
    }
   ],
   "source": [
    "processOneIter = function(data_1, data_2){\n",
    "    \n",
    "    concat_data = c(data_1$measure, data_2$measure)\n",
    "    len_concat_data = length(concat_data)\n",
    "    \n",
    "    len_data_1 = length(data_1)    \n",
    "    shuffled_data = sample(concat_data)\n",
    "    new_data_1 = shuffled_data[1:len_data_1]\n",
    "    new_data_2 = shuffled_data[(len_data_1 + 1):len_concat_data]\n",
    "    mean(new_data_1) - mean(new_data_2)\n",
    "    \n",
    "}\n",
    "processOneIter(data_1, data_2)"
   ]
  },
  {
   "cell_type": "code",
   "execution_count": 22,
   "id": "62a80ff9",
   "metadata": {},
   "outputs": [
    {
     "data": {
      "text/html": [
       "<ol class=list-inline>\n",
       "\t<li>0.770000824876659</li>\n",
       "\t<li>-0.114971729500388</li>\n",
       "\t<li>-0.625006710876466</li>\n",
       "\t<li>-0.753099334249868</li>\n",
       "\t<li>1.47382779174752</li>\n",
       "</ol>\n"
      ],
      "text/latex": [
       "\\begin{enumerate*}\n",
       "\\item 0.770000824876659\n",
       "\\item -0.114971729500388\n",
       "\\item -0.625006710876466\n",
       "\\item -0.753099334249868\n",
       "\\item 1.47382779174752\n",
       "\\end{enumerate*}\n"
      ],
      "text/markdown": [
       "1. 0.770000824876659\n",
       "2. -0.114971729500388\n",
       "3. -0.625006710876466\n",
       "4. -0.753099334249868\n",
       "5. 1.47382779174752\n",
       "\n",
       "\n"
      ],
      "text/plain": [
       "[1]  0.7700008 -0.1149717 -0.6250067 -0.7530993  1.4738278"
      ]
     },
     "metadata": {},
     "output_type": "display_data"
    }
   ],
   "source": [
    "replicate(5, processOneIter(data_1, data_2))"
   ]
  },
  {
   "cell_type": "code",
   "execution_count": 24,
   "id": "8f75dae4",
   "metadata": {
    "scrolled": true
   },
   "outputs": [
    {
     "data": {
      "image/png": "[encoded data removed]",
      "text/plain": [
       "plot without title"
      ]
     },
     "metadata": {},
     "output_type": "display_data"
    }
   ],
   "source": [
    "mean_under_null = replicate(1000, processOneIter(data_1, data_2))\n",
    "\n",
    "ggplot()+\n",
    "  geom_histogram(aes(mean_under_null, y=..density..), bins =30, alpha=0.2, color=\"black\") + \n",
    "  geom_density(aes(mean_under_null), bw=0.2, size=1.5) + \n",
    "  xlim(-2.5, 2.5)"
   ]
  },
  {
   "cell_type": "code",
   "execution_count": 26,
   "id": "e68021c5",
   "metadata": {
    "scrolled": true
   },
   "outputs": [
    {
     "data": {
      "text/html": [
       "0.446191892205"
      ],
      "text/latex": [
       "0.446191892205"
      ],
      "text/markdown": [
       "0.446191892205"
      ],
      "text/plain": [
       "[1] 0.4461919"
      ]
     },
     "metadata": {},
     "output_type": "display_data"
    }
   ],
   "source": [
    "observed_value = mean(data_1$measure) - mean(data_2$measure)\n",
    "observed_value"
   ]
  },
  {
   "cell_type": "code",
   "execution_count": 30,
   "id": "2d47c8ca",
   "metadata": {
    "scrolled": true
   },
   "outputs": [
    {
     "data": {
      "image/png": "[encoded data removed]",
      "text/plain": [
       "plot without title"
      ]
     },
     "metadata": {},
     "output_type": "display_data"
    }
   ],
   "source": [
    "ggplot()+\n",
    "  geom_histogram(aes(mean_under_null, y=..density..), bins =30, alpha=0.2, color=\"black\") + \n",
    "  geom_density(aes(mean_under_null), bw=0.2, size=1.5) + \n",
    "  xlim(-3, 3)+\n",
    "  geom_point(aes(observed_value, 0), color=\"red\", size=10)"
   ]
  },
  {
   "cell_type": "markdown",
   "id": "71226301",
   "metadata": {},
   "source": [
    "Q.3 \n",
    "\n",
    "* The proportion of the of _P. lobata_, _M. capitata_ and _P. mendrina_ at a site X are c(0.60, 0.19, 0.21).\n",
    "* You surveyed a site Y with somewhat differentenvironmental conditions and obtains the following proportions for the same coral (0.61, 0.19, 0.20). Use the multinomial non-parameteric hypotheses test to assess the proportions obtained at sites X and Y are statistically differnet\n",
    "\n"
   ]
  },
  {
   "cell_type": "code",
   "execution_count": 37,
   "id": "b419e19e",
   "metadata": {},
   "outputs": [
    {
     "data": {
      "text/html": [
       "<table>\n",
       "<thead><tr><th scope=col>kind</th><th scope=col>ratios</th><th scope=col>method</th></tr></thead>\n",
       "<tbody>\n",
       "\t<tr><td>P.lobata  </td><td>0.60      </td><td>site_x    </td></tr>\n",
       "\t<tr><td>P.lobata  </td><td>0.61      </td><td>site_y    </td></tr>\n",
       "\t<tr><td>M.capitata</td><td>0.19      </td><td>site_x    </td></tr>\n",
       "\t<tr><td>M.capitata</td><td>0.19      </td><td>site_y    </td></tr>\n",
       "\t<tr><td>P.mendrina</td><td>0.21      </td><td>site_x    </td></tr>\n",
       "\t<tr><td>P.mendrina</td><td>0.20      </td><td>site_y    </td></tr>\n",
       "</tbody>\n",
       "</table>\n"
      ],
      "text/latex": [
       "\\begin{tabular}{r|lll}\n",
       " kind & ratios & method\\\\\n",
       "\\hline\n",
       "\t P.lobata   & 0.60       & site\\_x  \\\\\n",
       "\t P.lobata   & 0.61       & site\\_y  \\\\\n",
       "\t M.capitata & 0.19       & site\\_x  \\\\\n",
       "\t M.capitata & 0.19       & site\\_y  \\\\\n",
       "\t P.mendrina & 0.21       & site\\_x  \\\\\n",
       "\t P.mendrina & 0.20       & site\\_y  \\\\\n",
       "\\end{tabular}\n"
      ],
      "text/markdown": [
       "\n",
       "| kind | ratios | method |\n",
       "|---|---|---|\n",
       "| P.lobata   | 0.60       | site_x     |\n",
       "| P.lobata   | 0.61       | site_y     |\n",
       "| M.capitata | 0.19       | site_x     |\n",
       "| M.capitata | 0.19       | site_y     |\n",
       "| P.mendrina | 0.21       | site_x     |\n",
       "| P.mendrina | 0.20       | site_y     |\n",
       "\n"
      ],
      "text/plain": [
       "  kind       ratios method\n",
       "1 P.lobata   0.60   site_x\n",
       "2 P.lobata   0.61   site_y\n",
       "3 M.capitata 0.19   site_x\n",
       "4 M.capitata 0.19   site_y\n",
       "5 P.mendrina 0.21   site_x\n",
       "6 P.mendrina 0.20   site_y"
      ]
     },
     "metadata": {},
     "output_type": "display_data"
    }
   ],
   "source": [
    "kind = c('P.lobata', 'P.lobata', 'M.capitata', 'M.capitata', 'P.mendrina', 'P.mendrina')\n",
    "ratios = c(0.60, 0.61, 0.19, 0.19, 0.21, 0.20)\n",
    "method = rep(c(\"site_x\", \"site_y\"), 3)\n",
    "\n",
    "\n",
    "coral_proportions = tibble(kind, ratios, method)\n",
    "coral_proportions"
   ]
  },
  {
   "cell_type": "code",
   "execution_count": 33,
   "id": "bea5f108",
   "metadata": {
    "scrolled": false
   },
   "outputs": [
    {
     "data": {
      "text/html": [
       "<table>\n",
       "<tbody>\n",
       "\t<tr><td>0.670</td></tr>\n",
       "\t<tr><td>0.165</td></tr>\n",
       "\t<tr><td>0.165</td></tr>\n",
       "</tbody>\n",
       "</table>\n"
      ],
      "text/latex": [
       "\\begin{tabular}{l}\n",
       "\t 0.670\\\\\n",
       "\t 0.165\\\\\n",
       "\t 0.165\\\\\n",
       "\\end{tabular}\n"
      ],
      "text/markdown": [
       "\n",
       "| 0.670 |\n",
       "| 0.165 |\n",
       "| 0.165 |\n",
       "\n"
      ],
      "text/plain": [
       "     [,1] \n",
       "[1,] 0.670\n",
       "[2,] 0.165\n",
       "[3,] 0.165"
      ]
     },
     "metadata": {},
     "output_type": "display_data"
    }
   ],
   "source": [
    "rmultinom(1, 200, prob=c(0.60, 0.19, 0.21))/200"
   ]
  },
  {
   "cell_type": "code",
   "execution_count": 34,
   "id": "7380b7f4",
   "metadata": {
    "scrolled": true
   },
   "outputs": [
    {
     "data": {
      "text/html": [
       "0.03"
      ],
      "text/latex": [
       "0.03"
      ],
      "text/markdown": [
       "0.03"
      ],
      "text/plain": [
       "[1] 0.03"
      ]
     },
     "metadata": {},
     "output_type": "display_data"
    }
   ],
   "source": [
    "sampleOneIteration = function(){\n",
    "    true_proportions = c(0.60, 0.19, 0.21)\n",
    "    sample_proportions = rmultinom(1, 200, prob=c(0.61, 0.19, 0.20))/200\n",
    "    sample_tvd = sum(abs(true_proportions- sample_proportions))/2\n",
    "    sample_tvd\n",
    "        \n",
    "}\n",
    "sampleOneIteration()"
   ]
  },
  {
   "cell_type": "code",
   "execution_count": 35,
   "id": "8659b8d2",
   "metadata": {},
   "outputs": [],
   "source": [
    "tvds = replicate(1000, sampleOneIteration())"
   ]
  },
  {
   "cell_type": "code",
   "execution_count": 39,
   "id": "44cf6744",
   "metadata": {},
   "outputs": [
    {
     "data": {
      "text/html": [
       "0.01"
      ],
      "text/latex": [
       "0.01"
      ],
      "text/markdown": [
       "0.01"
      ],
      "text/plain": [
       "[1] 0.01"
      ]
     },
     "metadata": {},
     "output_type": "display_data"
    }
   ],
   "source": [
    "subtract_abs = function(x){\n",
    "    abs(x[1] - x[2])\n",
    "}\n",
    "\n",
    "\n",
    "sum(tapply(coral_proportions$ratios, coral_proportions$kind, subtract_abs))/2"
   ]
  },
  {
   "cell_type": "code",
   "execution_count": 40,
   "id": "fc329ef5",
   "metadata": {},
   "outputs": [],
   "source": [
    "observed_stat = sum(tapply(coral_proportions$ratios, coral_proportions$kind, subtract_abs))/2"
   ]
  },
  {
   "cell_type": "code",
   "execution_count": 41,
   "id": "ffee6218",
   "metadata": {
    "scrolled": true
   },
   "outputs": [
    {
     "data": {
      "image/png": "[encoded data removed]",
      "text/plain": [
       "plot without title"
      ]
     },
     "metadata": {},
     "output_type": "display_data"
    }
   ],
   "source": [
    "ggplot()+ \n",
    "  geom_histogram(aes(tvds, ..density..), bins = 15) +\n",
    "  geom_point(aes(observed_stat, 0), size=5, color=\"red\")"
   ]
  },
  {
   "cell_type": "code",
   "execution_count": 42,
   "id": "571d3c2b",
   "metadata": {},
   "outputs": [
    {
     "data": {
      "text/html": [
       "0.952"
      ],
      "text/latex": [
       "0.952"
      ],
      "text/markdown": [
       "0.952"
      ],
      "text/plain": [
       "[1] 0.952"
      ]
     },
     "metadata": {},
     "output_type": "display_data"
    }
   ],
   "source": [
    "p_value = sum(tvds > observed_stat)  / length(tvds)\n",
    "p_value"
   ]
  }
 ],
 "metadata": {
  "kernelspec": {
   "display_name": "R",
   "language": "R",
   "name": "ir"
  },
  "language_info": {
   "codemirror_mode": "r",
   "file_extension": ".r",
   "mimetype": "text/x-r-source",
   "name": "R",
   "pygments_lexer": "r",
   "version": "3.6.1"
  }
 },
 "nbformat": 4,
 "nbformat_minor": 5
}
